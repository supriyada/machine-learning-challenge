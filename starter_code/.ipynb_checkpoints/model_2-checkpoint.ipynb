{
 "cells": [
  {
   "cell_type": "code",
   "execution_count": null,
   "metadata": {},
   "outputs": [],
   "source": [
    "# Update sklearn to prevent version mismatches\n",
    "!pip install sklearn --upgrade"
   ]
  },
  {
   "cell_type": "code",
   "execution_count": null,
   "metadata": {},
   "outputs": [],
   "source": [
    "# install joblib. This will be used to save your model. \n",
    "# Restart your kernel after installing \n",
    "!pip install joblib"
   ]
  },
  {
   "cell_type": "code",
   "execution_count": 1,
   "metadata": {},
   "outputs": [],
   "source": [
    "import pandas as pd"
   ]
  },
  {
   "cell_type": "markdown",
   "metadata": {},
   "source": [
    "# Read the CSV and Perform Basic Data Cleaning"
   ]
  },
  {
   "cell_type": "code",
   "execution_count": 2,
   "metadata": {},
   "outputs": [
    {
     "data": {
      "text/html": [
       "<div>\n",
       "<style scoped>\n",
       "    .dataframe tbody tr th:only-of-type {\n",
       "        vertical-align: middle;\n",
       "    }\n",
       "\n",
       "    .dataframe tbody tr th {\n",
       "        vertical-align: top;\n",
       "    }\n",
       "\n",
       "    .dataframe thead th {\n",
       "        text-align: right;\n",
       "    }\n",
       "</style>\n",
       "<table border=\"1\" class=\"dataframe\">\n",
       "  <thead>\n",
       "    <tr style=\"text-align: right;\">\n",
       "      <th></th>\n",
       "      <th>rowid</th>\n",
       "      <th>kepid</th>\n",
       "      <th>kepoi_name</th>\n",
       "      <th>kepler_name</th>\n",
       "      <th>koi_disposition</th>\n",
       "      <th>koi_pdisposition</th>\n",
       "      <th>koi_score</th>\n",
       "      <th>koi_fpflag_nt</th>\n",
       "      <th>koi_fpflag_ss</th>\n",
       "      <th>koi_fpflag_co</th>\n",
       "      <th>...</th>\n",
       "      <th>koi_steff_err2</th>\n",
       "      <th>koi_slogg</th>\n",
       "      <th>koi_slogg_err1</th>\n",
       "      <th>koi_slogg_err2</th>\n",
       "      <th>koi_srad</th>\n",
       "      <th>koi_srad_err1</th>\n",
       "      <th>koi_srad_err2</th>\n",
       "      <th>ra</th>\n",
       "      <th>dec</th>\n",
       "      <th>koi_kepmag</th>\n",
       "    </tr>\n",
       "  </thead>\n",
       "  <tbody>\n",
       "    <tr>\n",
       "      <th>0</th>\n",
       "      <td>1</td>\n",
       "      <td>10797460</td>\n",
       "      <td>K00752.01</td>\n",
       "      <td>Kepler-227 b</td>\n",
       "      <td>CONFIRMED</td>\n",
       "      <td>CANDIDATE</td>\n",
       "      <td>1.000</td>\n",
       "      <td>0</td>\n",
       "      <td>0</td>\n",
       "      <td>0</td>\n",
       "      <td>...</td>\n",
       "      <td>-81.0</td>\n",
       "      <td>4.467</td>\n",
       "      <td>0.064</td>\n",
       "      <td>-0.096</td>\n",
       "      <td>0.927</td>\n",
       "      <td>0.105</td>\n",
       "      <td>-0.061</td>\n",
       "      <td>291.93423</td>\n",
       "      <td>48.141651</td>\n",
       "      <td>15.347</td>\n",
       "    </tr>\n",
       "    <tr>\n",
       "      <th>1</th>\n",
       "      <td>2</td>\n",
       "      <td>10797460</td>\n",
       "      <td>K00752.02</td>\n",
       "      <td>Kepler-227 c</td>\n",
       "      <td>CONFIRMED</td>\n",
       "      <td>CANDIDATE</td>\n",
       "      <td>0.969</td>\n",
       "      <td>0</td>\n",
       "      <td>0</td>\n",
       "      <td>0</td>\n",
       "      <td>...</td>\n",
       "      <td>-81.0</td>\n",
       "      <td>4.467</td>\n",
       "      <td>0.064</td>\n",
       "      <td>-0.096</td>\n",
       "      <td>0.927</td>\n",
       "      <td>0.105</td>\n",
       "      <td>-0.061</td>\n",
       "      <td>291.93423</td>\n",
       "      <td>48.141651</td>\n",
       "      <td>15.347</td>\n",
       "    </tr>\n",
       "    <tr>\n",
       "      <th>2</th>\n",
       "      <td>3</td>\n",
       "      <td>10811496</td>\n",
       "      <td>K00753.01</td>\n",
       "      <td>NaN</td>\n",
       "      <td>FALSE POSITIVE</td>\n",
       "      <td>FALSE POSITIVE</td>\n",
       "      <td>0.000</td>\n",
       "      <td>0</td>\n",
       "      <td>1</td>\n",
       "      <td>0</td>\n",
       "      <td>...</td>\n",
       "      <td>-176.0</td>\n",
       "      <td>4.544</td>\n",
       "      <td>0.044</td>\n",
       "      <td>-0.176</td>\n",
       "      <td>0.868</td>\n",
       "      <td>0.233</td>\n",
       "      <td>-0.078</td>\n",
       "      <td>297.00482</td>\n",
       "      <td>48.134129</td>\n",
       "      <td>15.436</td>\n",
       "    </tr>\n",
       "    <tr>\n",
       "      <th>3</th>\n",
       "      <td>4</td>\n",
       "      <td>10848459</td>\n",
       "      <td>K00754.01</td>\n",
       "      <td>NaN</td>\n",
       "      <td>FALSE POSITIVE</td>\n",
       "      <td>FALSE POSITIVE</td>\n",
       "      <td>0.000</td>\n",
       "      <td>0</td>\n",
       "      <td>1</td>\n",
       "      <td>0</td>\n",
       "      <td>...</td>\n",
       "      <td>-174.0</td>\n",
       "      <td>4.564</td>\n",
       "      <td>0.053</td>\n",
       "      <td>-0.168</td>\n",
       "      <td>0.791</td>\n",
       "      <td>0.201</td>\n",
       "      <td>-0.067</td>\n",
       "      <td>285.53461</td>\n",
       "      <td>48.285210</td>\n",
       "      <td>15.597</td>\n",
       "    </tr>\n",
       "    <tr>\n",
       "      <th>4</th>\n",
       "      <td>5</td>\n",
       "      <td>10854555</td>\n",
       "      <td>K00755.01</td>\n",
       "      <td>Kepler-664 b</td>\n",
       "      <td>CONFIRMED</td>\n",
       "      <td>CANDIDATE</td>\n",
       "      <td>1.000</td>\n",
       "      <td>0</td>\n",
       "      <td>0</td>\n",
       "      <td>0</td>\n",
       "      <td>...</td>\n",
       "      <td>-211.0</td>\n",
       "      <td>4.438</td>\n",
       "      <td>0.070</td>\n",
       "      <td>-0.210</td>\n",
       "      <td>1.046</td>\n",
       "      <td>0.334</td>\n",
       "      <td>-0.133</td>\n",
       "      <td>288.75488</td>\n",
       "      <td>48.226200</td>\n",
       "      <td>15.509</td>\n",
       "    </tr>\n",
       "  </tbody>\n",
       "</table>\n",
       "<p>5 rows × 50 columns</p>\n",
       "</div>"
      ],
      "text/plain": [
       "   rowid     kepid kepoi_name   kepler_name koi_disposition koi_pdisposition  \\\n",
       "0      1  10797460  K00752.01  Kepler-227 b       CONFIRMED        CANDIDATE   \n",
       "1      2  10797460  K00752.02  Kepler-227 c       CONFIRMED        CANDIDATE   \n",
       "2      3  10811496  K00753.01           NaN  FALSE POSITIVE   FALSE POSITIVE   \n",
       "3      4  10848459  K00754.01           NaN  FALSE POSITIVE   FALSE POSITIVE   \n",
       "4      5  10854555  K00755.01  Kepler-664 b       CONFIRMED        CANDIDATE   \n",
       "\n",
       "   koi_score  koi_fpflag_nt  koi_fpflag_ss  koi_fpflag_co  ...  \\\n",
       "0      1.000              0              0              0  ...   \n",
       "1      0.969              0              0              0  ...   \n",
       "2      0.000              0              1              0  ...   \n",
       "3      0.000              0              1              0  ...   \n",
       "4      1.000              0              0              0  ...   \n",
       "\n",
       "   koi_steff_err2  koi_slogg  koi_slogg_err1  koi_slogg_err2  koi_srad  \\\n",
       "0           -81.0      4.467           0.064          -0.096     0.927   \n",
       "1           -81.0      4.467           0.064          -0.096     0.927   \n",
       "2          -176.0      4.544           0.044          -0.176     0.868   \n",
       "3          -174.0      4.564           0.053          -0.168     0.791   \n",
       "4          -211.0      4.438           0.070          -0.210     1.046   \n",
       "\n",
       "   koi_srad_err1  koi_srad_err2         ra        dec  koi_kepmag  \n",
       "0          0.105         -0.061  291.93423  48.141651      15.347  \n",
       "1          0.105         -0.061  291.93423  48.141651      15.347  \n",
       "2          0.233         -0.078  297.00482  48.134129      15.436  \n",
       "3          0.201         -0.067  285.53461  48.285210      15.597  \n",
       "4          0.334         -0.133  288.75488  48.226200      15.509  \n",
       "\n",
       "[5 rows x 50 columns]"
      ]
     },
     "execution_count": 2,
     "metadata": {},
     "output_type": "execute_result"
    }
   ],
   "source": [
    "df = pd.read_csv(\"dataset.csv\")\n",
    "\n",
    "df.head()"
   ]
  },
  {
   "cell_type": "code",
   "execution_count": 3,
   "metadata": {},
   "outputs": [],
   "source": [
    "# Drop the null columns where all values are null\n",
    "df = df.dropna(axis='columns', how='all')\n",
    "# Drop the null rows\n",
    "df = df.dropna()"
   ]
  },
  {
   "cell_type": "code",
   "execution_count": 15,
   "metadata": {
    "collapsed": true
   },
   "outputs": [
    {
     "name": "stdout",
     "output_type": "stream",
     "text": [
      "<class 'pandas.core.frame.DataFrame'>\n",
      "Int64Index: 2269 entries, 0 to 9540\n",
      "Data columns (total 48 columns):\n",
      " #   Column             Non-Null Count  Dtype  \n",
      "---  ------             --------------  -----  \n",
      " 0   rowid              2269 non-null   int64  \n",
      " 1   kepid              2269 non-null   int64  \n",
      " 2   kepoi_name         2269 non-null   object \n",
      " 3   kepler_name        2269 non-null   object \n",
      " 4   koi_disposition    2269 non-null   object \n",
      " 5   koi_pdisposition   2269 non-null   object \n",
      " 6   koi_score          2269 non-null   float64\n",
      " 7   koi_fpflag_nt      2269 non-null   int64  \n",
      " 8   koi_fpflag_ss      2269 non-null   int64  \n",
      " 9   koi_fpflag_co      2269 non-null   int64  \n",
      " 10  koi_fpflag_ec      2269 non-null   int64  \n",
      " 11  koi_period         2269 non-null   float64\n",
      " 12  koi_period_err1    2269 non-null   float64\n",
      " 13  koi_period_err2    2269 non-null   float64\n",
      " 14  koi_time0bk        2269 non-null   float64\n",
      " 15  koi_time0bk_err1   2269 non-null   float64\n",
      " 16  koi_time0bk_err2   2269 non-null   float64\n",
      " 17  koi_impact         2269 non-null   float64\n",
      " 18  koi_impact_err1    2269 non-null   float64\n",
      " 19  koi_impact_err2    2269 non-null   float64\n",
      " 20  koi_duration       2269 non-null   float64\n",
      " 21  koi_duration_err1  2269 non-null   float64\n",
      " 22  koi_duration_err2  2269 non-null   float64\n",
      " 23  koi_depth          2269 non-null   float64\n",
      " 24  koi_depth_err1     2269 non-null   float64\n",
      " 25  koi_depth_err2     2269 non-null   float64\n",
      " 26  koi_prad           2269 non-null   float64\n",
      " 27  koi_prad_err1      2269 non-null   float64\n",
      " 28  koi_prad_err2      2269 non-null   float64\n",
      " 29  koi_teq            2269 non-null   float64\n",
      " 30  koi_insol          2269 non-null   float64\n",
      " 31  koi_insol_err1     2269 non-null   float64\n",
      " 32  koi_insol_err2     2269 non-null   float64\n",
      " 33  koi_model_snr      2269 non-null   float64\n",
      " 34  koi_tce_plnt_num   2269 non-null   float64\n",
      " 35  koi_tce_delivname  2269 non-null   object \n",
      " 36  koi_steff          2269 non-null   float64\n",
      " 37  koi_steff_err1     2269 non-null   float64\n",
      " 38  koi_steff_err2     2269 non-null   float64\n",
      " 39  koi_slogg          2269 non-null   float64\n",
      " 40  koi_slogg_err1     2269 non-null   float64\n",
      " 41  koi_slogg_err2     2269 non-null   float64\n",
      " 42  koi_srad           2269 non-null   float64\n",
      " 43  koi_srad_err1      2269 non-null   float64\n",
      " 44  koi_srad_err2      2269 non-null   float64\n",
      " 45  ra                 2269 non-null   float64\n",
      " 46  dec                2269 non-null   float64\n",
      " 47  koi_kepmag         2269 non-null   float64\n",
      "dtypes: float64(37), int64(6), object(5)\n",
      "memory usage: 868.6+ KB\n"
     ]
    }
   ],
   "source": [
    "df.info()"
   ]
  },
  {
   "cell_type": "markdown",
   "metadata": {},
   "source": [
    "# Select your features (columns)"
   ]
  },
  {
   "cell_type": "code",
   "execution_count": 4,
   "metadata": {},
   "outputs": [
    {
     "data": {
      "text/html": [
       "<div>\n",
       "<style scoped>\n",
       "    .dataframe tbody tr th:only-of-type {\n",
       "        vertical-align: middle;\n",
       "    }\n",
       "\n",
       "    .dataframe tbody tr th {\n",
       "        vertical-align: top;\n",
       "    }\n",
       "\n",
       "    .dataframe thead th {\n",
       "        text-align: right;\n",
       "    }\n",
       "</style>\n",
       "<table border=\"1\" class=\"dataframe\">\n",
       "  <thead>\n",
       "    <tr style=\"text-align: right;\">\n",
       "      <th></th>\n",
       "      <th>KepID</th>\n",
       "      <th>OrbitalPeriod[days]</th>\n",
       "      <th>StellarSurfaceGravity[log10(cm/s**2)</th>\n",
       "      <th>TransitDepth[ppm]</th>\n",
       "      <th>StellarEffectiveTemperature[K]</th>\n",
       "      <th>StellarRadius[Solarradii]</th>\n",
       "      <th>Kepler-band[mag]</th>\n",
       "    </tr>\n",
       "  </thead>\n",
       "  <tbody>\n",
       "    <tr>\n",
       "      <th>0</th>\n",
       "      <td>10797460</td>\n",
       "      <td>9.488036</td>\n",
       "      <td>4.467</td>\n",
       "      <td>615.8</td>\n",
       "      <td>5455.0</td>\n",
       "      <td>0.927</td>\n",
       "      <td>15.347</td>\n",
       "    </tr>\n",
       "    <tr>\n",
       "      <th>1</th>\n",
       "      <td>10797460</td>\n",
       "      <td>54.418383</td>\n",
       "      <td>4.467</td>\n",
       "      <td>874.8</td>\n",
       "      <td>5455.0</td>\n",
       "      <td>0.927</td>\n",
       "      <td>15.347</td>\n",
       "    </tr>\n",
       "    <tr>\n",
       "      <th>4</th>\n",
       "      <td>10854555</td>\n",
       "      <td>2.525592</td>\n",
       "      <td>4.438</td>\n",
       "      <td>603.3</td>\n",
       "      <td>6031.0</td>\n",
       "      <td>1.046</td>\n",
       "      <td>15.509</td>\n",
       "    </tr>\n",
       "    <tr>\n",
       "      <th>5</th>\n",
       "      <td>10872983</td>\n",
       "      <td>11.094321</td>\n",
       "      <td>4.486</td>\n",
       "      <td>1517.5</td>\n",
       "      <td>6046.0</td>\n",
       "      <td>0.972</td>\n",
       "      <td>15.714</td>\n",
       "    </tr>\n",
       "    <tr>\n",
       "      <th>6</th>\n",
       "      <td>10872983</td>\n",
       "      <td>4.134435</td>\n",
       "      <td>4.486</td>\n",
       "      <td>686.0</td>\n",
       "      <td>6046.0</td>\n",
       "      <td>0.972</td>\n",
       "      <td>15.714</td>\n",
       "    </tr>\n",
       "  </tbody>\n",
       "</table>\n",
       "</div>"
      ],
      "text/plain": [
       "      KepID  OrbitalPeriod[days]  StellarSurfaceGravity[log10(cm/s**2)  \\\n",
       "0  10797460             9.488036                                 4.467   \n",
       "1  10797460            54.418383                                 4.467   \n",
       "4  10854555             2.525592                                 4.438   \n",
       "5  10872983            11.094321                                 4.486   \n",
       "6  10872983             4.134435                                 4.486   \n",
       "\n",
       "   TransitDepth[ppm]  StellarEffectiveTemperature[K]  \\\n",
       "0              615.8                          5455.0   \n",
       "1              874.8                          5455.0   \n",
       "4              603.3                          6031.0   \n",
       "5             1517.5                          6046.0   \n",
       "6              686.0                          6046.0   \n",
       "\n",
       "   StellarRadius[Solarradii]  Kepler-band[mag]  \n",
       "0                      0.927            15.347  \n",
       "1                      0.927            15.347  \n",
       "4                      1.046            15.509  \n",
       "5                      0.972            15.714  \n",
       "6                      0.972            15.714  "
      ]
     },
     "execution_count": 4,
     "metadata": {},
     "output_type": "execute_result"
    }
   ],
   "source": [
    "# Set features. This will also be used as your x values.\n",
    "selected_features = df[['kepid', 'koi_period', 'koi_slogg', 'koi_depth', 'koi_steff','koi_srad','koi_kepmag']]\n",
    "selected_features = selected_features.rename(columns={'kepid' : 'KepID',\n",
    "                                                      'koi_period' : 'OrbitalPeriod[days]',\n",
    "                                                      'koi_slogg' : 'StellarSurfaceGravity[log10(cm/s**2)',\n",
    "                                                      'koi_depth' : 'TransitDepth[ppm]',\n",
    "                                                      'koi_steff' : 'StellarEffectiveTemperature[K]',\n",
    "                                                      'koi_srad' : 'StellarRadius[Solarradii]',\n",
    "                                                      'koi_kepmag' : 'Kepler-band[mag]'})\n",
    "selected_features.head()"
   ]
  },
  {
   "cell_type": "markdown",
   "metadata": {},
   "source": [
    "# Create a Train Test Split\n",
    "\n",
    "Use `koi_disposition` for the y values"
   ]
  },
  {
   "cell_type": "code",
   "execution_count": 5,
   "metadata": {},
   "outputs": [],
   "source": [
    "target = df['koi_disposition']\n",
    "target_names = ['CONFIRMED','FALSE POSITIVE','CANDIDATE']"
   ]
  },
  {
   "cell_type": "code",
   "execution_count": 6,
   "metadata": {},
   "outputs": [],
   "source": [
    "from sklearn.model_selection import train_test_split\n",
    "X_train, X_test, y_train, y_test = train_test_split(selected_features, target, random_state=42)"
   ]
  },
  {
   "cell_type": "code",
   "execution_count": 7,
   "metadata": {},
   "outputs": [
    {
     "data": {
      "text/html": [
       "<div>\n",
       "<style scoped>\n",
       "    .dataframe tbody tr th:only-of-type {\n",
       "        vertical-align: middle;\n",
       "    }\n",
       "\n",
       "    .dataframe tbody tr th {\n",
       "        vertical-align: top;\n",
       "    }\n",
       "\n",
       "    .dataframe thead th {\n",
       "        text-align: right;\n",
       "    }\n",
       "</style>\n",
       "<table border=\"1\" class=\"dataframe\">\n",
       "  <thead>\n",
       "    <tr style=\"text-align: right;\">\n",
       "      <th></th>\n",
       "      <th>KepID</th>\n",
       "      <th>OrbitalPeriod[days]</th>\n",
       "      <th>StellarSurfaceGravity[log10(cm/s**2)</th>\n",
       "      <th>TransitDepth[ppm]</th>\n",
       "      <th>StellarEffectiveTemperature[K]</th>\n",
       "      <th>StellarRadius[Solarradii]</th>\n",
       "      <th>Kepler-band[mag]</th>\n",
       "    </tr>\n",
       "  </thead>\n",
       "  <tbody>\n",
       "    <tr>\n",
       "      <th>5356</th>\n",
       "      <td>9517393</td>\n",
       "      <td>219.321556</td>\n",
       "      <td>4.476</td>\n",
       "      <td>3628.7</td>\n",
       "      <td>6063.0</td>\n",
       "      <td>1.012</td>\n",
       "      <td>15.273</td>\n",
       "    </tr>\n",
       "    <tr>\n",
       "      <th>1851</th>\n",
       "      <td>4458082</td>\n",
       "      <td>4.893365</td>\n",
       "      <td>4.304</td>\n",
       "      <td>138.3</td>\n",
       "      <td>6688.0</td>\n",
       "      <td>1.347</td>\n",
       "      <td>13.827</td>\n",
       "    </tr>\n",
       "    <tr>\n",
       "      <th>2202</th>\n",
       "      <td>9837685</td>\n",
       "      <td>13.712185</td>\n",
       "      <td>4.562</td>\n",
       "      <td>786.7</td>\n",
       "      <td>5550.0</td>\n",
       "      <td>0.831</td>\n",
       "      <td>15.935</td>\n",
       "    </tr>\n",
       "    <tr>\n",
       "      <th>2949</th>\n",
       "      <td>9115800</td>\n",
       "      <td>4.454194</td>\n",
       "      <td>4.425</td>\n",
       "      <td>16042.0</td>\n",
       "      <td>5359.0</td>\n",
       "      <td>0.915</td>\n",
       "      <td>14.995</td>\n",
       "    </tr>\n",
       "    <tr>\n",
       "      <th>771</th>\n",
       "      <td>7831264</td>\n",
       "      <td>5.968724</td>\n",
       "      <td>4.173</td>\n",
       "      <td>510.6</td>\n",
       "      <td>6122.0</td>\n",
       "      <td>1.439</td>\n",
       "      <td>13.717</td>\n",
       "    </tr>\n",
       "  </tbody>\n",
       "</table>\n",
       "</div>"
      ],
      "text/plain": [
       "        KepID  OrbitalPeriod[days]  StellarSurfaceGravity[log10(cm/s**2)  \\\n",
       "5356  9517393           219.321556                                 4.476   \n",
       "1851  4458082             4.893365                                 4.304   \n",
       "2202  9837685            13.712185                                 4.562   \n",
       "2949  9115800             4.454194                                 4.425   \n",
       "771   7831264             5.968724                                 4.173   \n",
       "\n",
       "      TransitDepth[ppm]  StellarEffectiveTemperature[K]  \\\n",
       "5356             3628.7                          6063.0   \n",
       "1851              138.3                          6688.0   \n",
       "2202              786.7                          5550.0   \n",
       "2949            16042.0                          5359.0   \n",
       "771               510.6                          6122.0   \n",
       "\n",
       "      StellarRadius[Solarradii]  Kepler-band[mag]  \n",
       "5356                      1.012            15.273  \n",
       "1851                      1.347            13.827  \n",
       "2202                      0.831            15.935  \n",
       "2949                      0.915            14.995  \n",
       "771                       1.439            13.717  "
      ]
     },
     "execution_count": 7,
     "metadata": {},
     "output_type": "execute_result"
    }
   ],
   "source": [
    "X_train.head()"
   ]
  },
  {
   "cell_type": "markdown",
   "metadata": {},
   "source": [
    "# Pre-processing\n",
    "\n",
    "Scale the data using the MinMaxScaler and perform some feature selection"
   ]
  },
  {
   "cell_type": "code",
   "execution_count": 8,
   "metadata": {},
   "outputs": [],
   "source": [
    "# Scale your data\n",
    "from sklearn.preprocessing import MinMaxScaler\n",
    "\n",
    "# define min max scaler\n",
    "scaler = MinMaxScaler()\n",
    "# transform data\n",
    "X_train_scaled = scaler.fit_transform(X_train)\n",
    "X_test_scaled = scaler.fit_transform(X_test)"
   ]
  },
  {
   "cell_type": "markdown",
   "metadata": {},
   "source": [
    "# Train the Model\n",
    "\n"
   ]
  },
  {
   "cell_type": "code",
   "execution_count": 56,
   "metadata": {},
   "outputs": [],
   "source": [
    "# Loop through different k values to see which has the highest accuracy\n",
    "# Note: We only use odd numbers because we don't want any ties\n",
    "train_scores = []\n",
    "test_scores = []\n",
    "for k in range(1, 20, 2):\n",
    "    knn = KNeighborsClassifier(n_neighbors=k)\n",
    "    knn.fit(X_train_scaled, y_train)\n",
    "    train_score = knn.score(X_train_scaled, y_train)\n",
    "    test_score = knn.score(X_test_scaled, y_test)\n",
    "    train_scores.append(train_score)\n",
    "    test_scores.append(test_score)\n",
    "    print(f\"k: {k}, Train/Test Score: {train_score:.3f}/{test_score:.3f}\")\n",
    "    \n",
    "    \n",
    "plt.plot(range(1, 20, 2), train_scores, marker='o')\n",
    "plt.plot(range(1, 20, 2), test_scores, marker=\"x\")\n",
    "plt.xlabel(\"k neighbors\")\n",
    "plt.ylabel(\"Testing accuracy Score\")\n",
    "plt.show()"
   ]
  },
  {
   "cell_type": "code",
   "execution_count": 57,
   "metadata": {},
   "outputs": [
    {
     "name": "stdout",
     "output_type": "stream",
     "text": [
      "Training Data Score: 1.0\n",
      "Testing Data Score: 0.9982394366197183\n"
     ]
    }
   ],
   "source": [
    "print(f\"Training Data Score: {clf.score(X_train_scaled, y_train)}\")\n",
    "print(f\"Testing Data Score: {clf.score(X_test_scaled, y_test)}\")"
   ]
  },
  {
   "cell_type": "code",
   "execution_count": 58,
   "metadata": {},
   "outputs": [
    {
     "data": {
      "text/plain": [
       "1.0"
      ]
     },
     "execution_count": 58,
     "metadata": {},
     "output_type": "execute_result"
    }
   ],
   "source": []
  },
  {
   "cell_type": "code",
   "execution_count": 59,
   "metadata": {},
   "outputs": [
    {
     "data": {
      "text/plain": [
       "[(0.3666471206330007, 'TransitDepth[ppm]'),\n",
       " (0.17819415474823772, 'StellarRadius[Solarradii]'),\n",
       " (0.16799582213094125, 'StellarSurfaceGravity[log10(cm/s**2)'),\n",
       " (0.14437824452635012, 'Kepler-band[mag]'),\n",
       " (0.0652679522594473, 'OrbitalPeriod[days]'),\n",
       " (0.039093719816163365, 'KepID'),\n",
       " (0.03842298588585966, 'StellarEffectiveTemperature[K]')]"
      ]
     },
     "execution_count": 59,
     "metadata": {},
     "output_type": "execute_result"
    }
   ],
   "source": []
  },
  {
   "cell_type": "markdown",
   "metadata": {},
   "source": [
    "# Hyperparameter Tuning\n",
    "\n",
    "Use `GridSearchCV` to tune the model's parameters"
   ]
  },
  {
   "cell_type": "code",
   "execution_count": null,
   "metadata": {},
   "outputs": [],
   "source": [
    "# Create the GridSearchCV model"
   ]
  },
  {
   "cell_type": "code",
   "execution_count": null,
   "metadata": {},
   "outputs": [],
   "source": [
    "# Train the model with GridSearch"
   ]
  },
  {
   "cell_type": "code",
   "execution_count": null,
   "metadata": {},
   "outputs": [],
   "source": [
    "print(grid2.best_params_)\n",
    "print(grid2.best_score_)"
   ]
  },
  {
   "cell_type": "markdown",
   "metadata": {},
   "source": [
    "# Save the Model"
   ]
  },
  {
   "cell_type": "code",
   "execution_count": null,
   "metadata": {},
   "outputs": [],
   "source": [
    "# save your model by updating \"your_name\" with your name\n",
    "# and \"your_model\" with your model variable\n",
    "# be sure to turn this in to BCS\n",
    "# if joblib fails to import, try running the command to install in terminal/git-bash\n",
    "import joblib\n",
    "filename = 'your_name.sav'\n",
    "joblib.dump(your_model, filename)"
   ]
  }
 ],
 "metadata": {
  "kernel_info": {
   "name": "dev"
  },
  "kernelspec": {
   "display_name": "Python 3",
   "language": "python",
   "name": "python3"
  },
  "language_info": {
   "codemirror_mode": {
    "name": "ipython",
    "version": 3
   },
   "file_extension": ".py",
   "mimetype": "text/x-python",
   "name": "python",
   "nbconvert_exporter": "python",
   "pygments_lexer": "ipython3",
   "version": "3.8.5"
  },
  "nteract": {
   "version": "0.12.3"
  }
 },
 "nbformat": 4,
 "nbformat_minor": 2
}
